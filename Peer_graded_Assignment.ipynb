{
 "cells": [
  {
   "cell_type": "markdown",
   "id": "1489f7cb-d336-4451-b1c4-3ca882e1290d",
   "metadata": {
    "tags": []
   },
   "source": [
    "My Jupyter Notebook on IBM Watson Studio"
   ]
  },
  {
   "cell_type": "markdown",
   "id": "75d5967d-fa71-4a34-aead-0b5f1fe61962",
   "metadata": {},
   "source": [
    "**Adeyeye Isaac Uwanaobong**"
   ]
  },
  {
   "cell_type": "markdown",
   "id": "58402d44-fa2f-4146-a53d-bff7bf82f3d1",
   "metadata": {},
   "source": [
    "Chemical Engineer"
   ]
  },
  {
   "cell_type": "markdown",
   "id": "d8156f33-5ffb-463d-9a3f-6251e2e26d5f",
   "metadata": {},
   "source": [
    "*I am interested in data science because it enable tasks to be done easier, faster and more efficiently*"
   ]
  },
  {
   "cell_type": "markdown",
   "id": "e92a7a98-5765-463f-9883-58d88ec18c3b",
   "metadata": {},
   "source": [
    "### The following code is a function that adds two numbers "
   ]
  },
  {
   "cell_type": "code",
   "execution_count": 34,
   "id": "7710320f-5cde-4ad6-bf71-cb2193458a35",
   "metadata": {},
   "outputs": [],
   "source": [
    "def sum(a,b):\n",
    "    return a + b"
   ]
  },
  {
   "cell_type": "code",
   "execution_count": 35,
   "id": "98b2da15-88b9-4a9d-bfa7-d0842313f548",
   "metadata": {},
   "outputs": [
    {
     "data": {
      "text/plain": [
       "6"
      ]
     },
     "execution_count": 35,
     "metadata": {},
     "output_type": "execute_result"
    }
   ],
   "source": [
    "sum(1,5)"
   ]
  },
  {
   "cell_type": "markdown",
   "id": "236db8cf-6e8b-4194-aa32-4d9d91b643e9",
   "metadata": {},
   "source": [
    " | country | Population \n",
    "| -------- | ------|\n",
    "| USA | 12234 |\n",
    "| Nigeria | 7653 |\n",
    "| Brazil | 54441  |"
   ]
  },
  {
   "cell_type": "markdown",
   "id": "10e66a49-82a3-4aef-9141-4a03243afc08",
   "metadata": {},
   "source": [
    "Movies:\n",
    "* Fast and furious\n",
    "* Den of thieves \n",
    "* Vis a Vis\n",
    "* Money Heist \n",
    "* You"
   ]
  },
  {
   "cell_type": "markdown",
   "id": "2bf84ff7-8fce-4cf5-85a9-379b7486bf32",
   "metadata": {},
   "source": [
    "<a href=\"https://coursera.org/\">Link to coursera's website"
   ]
  },
  {
   "cell_type": "code",
   "execution_count": null,
   "id": "f44e4cf9-c344-4c8a-913f-afa012331cc3",
   "metadata": {},
   "outputs": [],
   "source": []
  }
 ],
 "metadata": {
  "kernelspec": {
   "display_name": "Python",
   "language": "python",
   "name": "conda-env-python-py"
  },
  "language_info": {
   "codemirror_mode": {
    "name": "ipython",
    "version": 3
   },
   "file_extension": ".py",
   "mimetype": "text/x-python",
   "name": "python",
   "nbconvert_exporter": "python",
   "pygments_lexer": "ipython3",
   "version": "3.7.12"
  }
 },
 "nbformat": 4,
 "nbformat_minor": 5
}
